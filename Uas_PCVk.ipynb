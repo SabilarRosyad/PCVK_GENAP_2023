{
  "nbformat": 4,
  "nbformat_minor": 0,
  "metadata": {
    "colab": {
      "provenance": [],
      "collapsed_sections": [
        "ZmJDVCNtbchK"
      ],
      "authorship_tag": "ABX9TyOR7RpW+hEADJiPcTOZ9fxa",
      "include_colab_link": true
    },
    "kernelspec": {
      "name": "python3",
      "display_name": "Python 3"
    },
    "language_info": {
      "name": "python"
    }
  },
  "cells": [
    {
      "cell_type": "markdown",
      "metadata": {
        "id": "view-in-github",
        "colab_type": "text"
      },
      "source": [
        "<a href=\"https://colab.research.google.com/github/SabilarRosyad/PCVK_GENAP_2023/blob/main/Uas_PCVk.ipynb\" target=\"_parent\"><img src=\"https://colab.research.google.com/assets/colab-badge.svg\" alt=\"Open In Colab\"/></a>"
      ]
    },
    {
      "cell_type": "markdown",
      "source": [
        "**Kelas: TI-3C**\n",
        "\n",
        "**Anggota Kelompok:**\n",
        "\n",
        "**1. Hilmi Mughid | 09 | 2141720081**\n",
        "\n",
        "**2. Muhammad Sabilar Rosyad | 19 | 2141720113**\n",
        "\n",
        "**3. Yusril Ihza Mahendra P.R. | 29 | 2041720151**"
      ],
      "metadata": {
        "id": "VJUB_kO3U2cZ"
      }
    },
    {
      "cell_type": "code",
      "execution_count": null,
      "metadata": {
        "id": "SMP1j8R9Uaia"
      },
      "outputs": [],
      "source": [
        "from google.colab import drive\n",
        "drive.mount('/content/drive')"
      ]
    },
    {
      "cell_type": "markdown",
      "source": [
        "# Face Detection"
      ],
      "metadata": {
        "id": "rBiXfF16U7Uj"
      }
    },
    {
      "cell_type": "code",
      "source": [
        "import cv2\n",
        "from google.colab.patches import cv2_imshow\n",
        "import numpy as np\n",
        "import matplotlib.pyplot as plt"
      ],
      "metadata": {
        "id": "rynsrT48U4-i"
      },
      "execution_count": null,
      "outputs": []
    },
    {
      "cell_type": "markdown",
      "source": [
        "## Badzlin"
      ],
      "metadata": {
        "id": "ZmJDVCNtbchK"
      }
    },
    {
      "cell_type": "code",
      "source": [
        "# Membuat objek CascadeClassifier dengan file haarcascade untuk deteksi wajah\n",
        "cascade = cv2.CascadeClassifier('/content/drive/MyDrive/PCVK/Images/haarcascades/haarcascade_frontalface_alt.xml')\n",
        "\n",
        "# Membaca gambar 'badzlin1.jpg', mengubahnya ke RGB, dan membuat salinan\n",
        "badzlin1 = cv2.imread('/content/drive/MyDrive/PCVK/ktm/badzlin1.jpg')\n",
        "badzlin1_rgb = cv2.cvtColor(badzlin1, cv2.COLOR_BGR2RGB)\n",
        "badzlin1_crop = badzlin1_rgb[320:930, 0:940]\n",
        "badzlin1_fd = badzlin1_crop.copy()\n",
        "\n",
        "# Mendeteksi wajah pada gambar 'badzlin1.jpg' dan menggambar kotak merah di sekitar wajah yang terdeteksi\n",
        "fd_badzlin1 = cascade.detectMultiScale(badzlin1_fd)\n",
        "for(x,y,w,h) in fd_badzlin1:\n",
        "  cv2.rectangle(badzlin1_fd, (x,y),(x+w,y+h), (255,0,0), 10)\n",
        "\n",
        "# Menampilkan gambar 'badzlin1.jpg' sebelum dan sesudah deteksi wajah\n",
        "plt.figure(figsize = (10,10))\n",
        "f, axarr = plt.subplots(1,2,figsize=(8,8))\n",
        "plt.subplot(121)\n",
        "plt.imshow(badzlin1_rgb)\n",
        "plt.title('Gambar Original')\n",
        "plt.subplot(122)\n",
        "plt.imshow(badzlin1_fd)\n",
        "plt.title('Face Detection')\n",
        "plt.show()"
      ],
      "metadata": {
        "id": "ydQRia_0bs7k"
      },
      "execution_count": null,
      "outputs": []
    },
    {
      "cell_type": "code",
      "source": [
        "# Membuat objek CascadeClassifier dengan file haarcascade untuk deteksi wajah\n",
        "cascade = cv2.CascadeClassifier('/content/drive/MyDrive/PCVK/Images/haarcascades/haarcascade_frontalface_alt.xml')\n",
        "\n",
        "# Membaca gambar 'badzlin2.jpg', mengubahnya ke RGB, dan membuat salinan\n",
        "badzlin2 = cv2.imread('/content/drive/MyDrive/PCVK/ktm/badzlin2.jpg')\n",
        "badzlin2_rgb = cv2.cvtColor(badzlin2, cv2.COLOR_BGR2RGB)\n",
        "badzlin2_crop = badzlin2_rgb[500:1000, 0:940]\n",
        "badzlin2_fd = badzlin2_crop.copy()\n",
        "\n",
        "# Mendeteksi wajah pada gambar 'badzlin2.jpg' dan menggambar kotak merah di sekitar wajah yang terdeteksi\n",
        "fd_badzlin2 = cascade.detectMultiScale(badzlin2_fd)\n",
        "for(x,y,w,h) in fd_badzlin2:\n",
        "  cv2.rectangle(badzlin2_fd, (x,y),(x+w,y+h), (255,0,0), 10)\n",
        "\n",
        "# Menampilkan gambar 'badzlin2.jpg' sebelum dan sesudah deteksi wajah\n",
        "plt.figure(figsize = (10,10))\n",
        "f, axarr = plt.subplots(1,2,figsize=(8,8))\n",
        "plt.subplot(121)\n",
        "plt.imshow(badzlin2_rgb)\n",
        "plt.title('Gambar Original')\n",
        "plt.subplot(122)\n",
        "plt.imshow(badzlin2_fd)\n",
        "plt.title('Face Detection')\n",
        "plt.show()"
      ],
      "metadata": {
        "id": "jznUCygYbwKd"
      },
      "execution_count": null,
      "outputs": []
    },
    {
      "cell_type": "code",
      "source": [
        "# Membuat objek CascadeClassifier dengan file haarcascade untuk deteksi wajah\n",
        "cascade = cv2.CascadeClassifier('/content/drive/MyDrive/PCVK/Images/haarcascades/haarcascade_frontalface_alt.xml')\n",
        "\n",
        "# Membaca gambar 'badzlin3.jpg', mengubahnya ke RGB, dan membuat salinan\n",
        "badzlin3 = cv2.imread('/content/drive/MyDrive/PCVK/ktm/badzlin3.jpg')\n",
        "badzlin3_rgb = cv2.cvtColor(badzlin3, cv2.COLOR_BGR2RGB)\n",
        "badzlin3_crop = badzlin3_rgb[470:980, 10:2950]\n",
        "badzlin3_rotated = cv2.rotate(badzlin3_crop, cv2.ROTATE_180)\n",
        "badzlin3_fd = badzlin3_rotated.copy()\n",
        "\n",
        "# Mendeteksi wajah pada gambar 'badzlin3.jpg' dan menggambar kotak merah di sekitar wajah yang terdeteksi\n",
        "fd_badzlin3 = cascade.detectMultiScale(badzlin3_fd)\n",
        "for(x,y,w,h) in fd_badzlin3:\n",
        "  cv2.rectangle(badzlin3_fd, (x,y),(x+w,y+h), (255,0,0), 10)\n",
        "\n",
        "# Menampilkan gambar 'badzlin3.jpg' sebelum dan sesudah deteksi wajah\n",
        "plt.figure(figsize = (10,10))\n",
        "f, axarr = plt.subplots(1,2,figsize=(8,8))\n",
        "plt.subplot(121)\n",
        "plt.imshow(badzlin3_rgb)\n",
        "plt.title('Gambar Original')\n",
        "plt.subplot(122)\n",
        "plt.imshow(badzlin3_fd)\n",
        "plt.title('Face Detection')\n",
        "plt.show()"
      ],
      "metadata": {
        "id": "nNYfkAVhbx3u"
      },
      "execution_count": null,
      "outputs": []
    },
    {
      "cell_type": "code",
      "source": [
        "# Membuat objek CascadeClassifier dengan file haarcascade untuk deteksi wajah\n",
        "cascade = cv2.CascadeClassifier('/content/drive/MyDrive/PCVK/Images/haarcascades/haarcascade_frontalface_alt.xml')\n",
        "\n",
        "# Membaca gambar 'badzlin4.jpg', mengubahnya ke RGB, dan membuat salinan\n",
        "badzlin4 = cv2.imread('/content/drive/MyDrive/PCVK/ktm/badzlin4.jpg')\n",
        "badzlin4_rgb = cv2.cvtColor(badzlin4, cv2.COLOR_BGR2RGB)\n",
        "badzlin4_crop = badzlin4_rgb[390:1170, 170:710]\n",
        "badzlin4_rotated = cv2.rotate(badzlin4_crop, cv2.ROTATE_90_COUNTERCLOCKWISE)\n",
        "badzlin4_fd = badzlin4_rotated.copy()\n",
        "\n",
        "# Mendeteksi wajah pada gambar 'badzlin4.jpg' dan menggambar kotak merah di sekitar wajah yang terdeteksi\n",
        "fd_badzlin4 = cascade.detectMultiScale(badzlin4_fd)\n",
        "for(x,y,w,h) in fd_badzlin4:\n",
        "  cv2.rectangle(badzlin4_fd, (x,y),(x+w,y+h), (255,0,0), 5)\n",
        "\n",
        "# Menampilkan gambar 'badzlin4.jpg' sebelum dan sesudah deteksi wajah\n",
        "plt.figure(figsize = (10,10))\n",
        "f, axarr = plt.subplots(1,2,figsize=(8,8))\n",
        "plt.subplot(121)\n",
        "plt.imshow(badzlin4_rgb)\n",
        "plt.title('Gambar Original')\n",
        "plt.subplot(122)\n",
        "plt.imshow(badzlin4_fd)\n",
        "plt.title('Face Detection')\n",
        "plt.show()"
      ],
      "metadata": {
        "id": "kHGr5BLGb0Ay"
      },
      "execution_count": null,
      "outputs": []
    },
    {
      "cell_type": "code",
      "source": [
        "# Membuat objek CascadeClassifier dengan file haarcascade untuk deteksi wajah\n",
        "cascade = cv2.CascadeClassifier('/content/drive/MyDrive/PCVK/Images/haarcascades/haarcascade_frontalface_alt.xml')\n",
        "\n",
        "# Membaca gambar 'badzlin5.jpg', mengubahnya ke RGB, dan membuat salinan\n",
        "badzlin5 = cv2.imread('/content/drive/MyDrive/PCVK/ktm/badzlin5.jpg')\n",
        "badzlin5_rgb = cv2.cvtColor(badzlin5, cv2.COLOR_BGR2RGB)\n",
        "badzlin5_crop = badzlin5_rgb[290:1120, 180:750]\n",
        "badzlin5_rotated = cv2.rotate(badzlin5_crop, cv2.ROTATE_90_CLOCKWISE)\n",
        "badzlin5_fd = badzlin5_rotated.copy()\n",
        "\n",
        "# Mendeteksi wajah pada gambar 'badzlin5.jpg' dan menggambar kotak merah di sekitar wajah yang terdeteksi\n",
        "fd_badzlin5 = cascade.detectMultiScale(badzlin5_fd)\n",
        "for(x,y,w,h) in fd_badzlin5:\n",
        "  cv2.rectangle(badzlin5_fd, (x,y),(x+w,y+h), (255,0,0), 10)\n",
        "\n",
        "# Menampilkan gambar 'badzlin5.jpg' sebelum dan sesudah deteksi wajah\n",
        "plt.figure(figsize = (10,10))\n",
        "f, axarr = plt.subplots(1,2,figsize=(8,8))\n",
        "plt.subplot(121)\n",
        "plt.imshow(badzlin5_rgb)\n",
        "plt.title('Gambar Original')\n",
        "plt.subplot(122)\n",
        "plt.imshow(badzlin5_fd)\n",
        "plt.title('Face Detection')\n",
        "plt.show()"
      ],
      "metadata": {
        "id": "NlpXLNbnb1-R"
      },
      "execution_count": null,
      "outputs": []
    },
    {
      "cell_type": "markdown",
      "source": [
        "# OCR CNN"
      ],
      "metadata": {
        "id": "ym4E5nr8b3tp"
      }
    },
    {
      "cell_type": "code",
      "source": [
        "import numpy as np\n",
        "import imutils\n",
        "import cv2\n",
        "import matplotlib.pyplot as plt\n",
        "from imutils.contours import sort_contours\n",
        "from google.colab.patches import cv2_imshow\n",
        "from tensorflow.keras.models import load_model"
      ],
      "metadata": {
        "id": "bbM_VUnqb-Co"
      },
      "execution_count": null,
      "outputs": []
    },
    {
      "cell_type": "code",
      "source": [
        "network = load_model('/content/drive/MyDrive/PCVK/network')\n",
        "network.summary()"
      ],
      "metadata": {
        "id": "QWJ8iuXqb_jB"
      },
      "execution_count": null,
      "outputs": []
    },
    {
      "cell_type": "markdown",
      "source": [
        "## Badzlin"
      ],
      "metadata": {
        "id": "vny3CjCCcE3U"
      }
    },
    {
      "cell_type": "markdown",
      "source": [
        "### Badzlin1"
      ],
      "metadata": {
        "id": "f-a1fxDscJPM"
      }
    },
    {
      "cell_type": "code",
      "source": [
        "badzlin1 = cv2.imread('/content/drive/MyDrive/PCVK/ktm/badzlin1.jpg')\n",
        "img = badzlin1[320:930, 0:940]\n",
        "cv2_imshow(img)"
      ],
      "metadata": {
        "id": "9MXxmYnMcBSK"
      },
      "execution_count": null,
      "outputs": []
    },
    {
      "cell_type": "code",
      "source": [
        "plt.imshow(cv2.cvtColor(img, cv2.COLOR_BGR2RGB))\n",
        "plt.show()"
      ],
      "metadata": {
        "id": "v6S8nwS5cL-U"
      },
      "execution_count": null,
      "outputs": []
    },
    {
      "cell_type": "code",
      "source": [
        "img.shape"
      ],
      "metadata": {
        "id": "Q-9iUATDcNj0"
      },
      "execution_count": null,
      "outputs": []
    },
    {
      "cell_type": "code",
      "source": [
        "gray = cv2.cvtColor(img, cv2.COLOR_BGR2GRAY)\n",
        "cv2_imshow(gray)"
      ],
      "metadata": {
        "id": "0TUqE5ltcPMm"
      },
      "execution_count": null,
      "outputs": []
    },
    {
      "cell_type": "code",
      "source": [
        "blur = cv2.GaussianBlur(gray, (3,3), 0)\n",
        "cv2_imshow(blur)"
      ],
      "metadata": {
        "id": "K6mrBnlHcQm2"
      },
      "execution_count": null,
      "outputs": []
    },
    {
      "cell_type": "code",
      "source": [
        "adaptive = cv2.adaptiveThreshold(blur, 255, cv2.ADAPTIVE_THRESH_GAUSSIAN_C, cv2.THRESH_BINARY, 11, 9)\n",
        "# check\n",
        "cv2_imshow(adaptive)"
      ],
      "metadata": {
        "id": "z54Riez9cShk"
      },
      "execution_count": null,
      "outputs": []
    },
    {
      "cell_type": "code",
      "source": [
        "# inverse image since we trained out model\n",
        "# with black background\n",
        "invertion = 255 - adaptive\n",
        "# check\n",
        "cv2_imshow(invertion)"
      ],
      "metadata": {
        "id": "50aHL230cUVC"
      },
      "execution_count": null,
      "outputs": []
    },
    {
      "cell_type": "code",
      "source": [
        "dilation = cv2.dilate(invertion, np.ones((3,3)))\n",
        "# check\n",
        "cv2_imshow(dilation)"
      ],
      "metadata": {
        "id": "tvCgQh03cV6z"
      },
      "execution_count": null,
      "outputs": []
    },
    {
      "cell_type": "code",
      "source": [
        "edges = cv2.Canny(dilation, 40, 150)\n",
        "cv2_imshow(edges)"
      ],
      "metadata": {
        "id": "-l3DcAC3cXYx"
      },
      "execution_count": null,
      "outputs": []
    },
    {
      "cell_type": "code",
      "source": [
        "# Test erode\n",
        "erode = cv2.erode(invertion, np.ones((1,1)))\n",
        "cv2_imshow(erode)"
      ],
      "metadata": {
        "id": "f-9iy-9gcZEr"
      },
      "execution_count": null,
      "outputs": []
    },
    {
      "cell_type": "code",
      "source": [
        "# Define function for contour detection\n",
        "def find_contours(img):\n",
        "  conts = cv2.findContours(img, cv2.RETR_EXTERNAL, cv2.CHAIN_APPROX_SIMPLE)\n",
        "  conts = imutils.grab_contours(conts)\n",
        "  conts = sort_contours(conts, method='left-to-right')[0]\n",
        "\n",
        "  return conts"
      ],
      "metadata": {
        "id": "Pxu75aIVcahJ"
      },
      "execution_count": null,
      "outputs": []
    },
    {
      "cell_type": "code",
      "source": [
        "conts = find_contours(dilation.copy())"
      ],
      "metadata": {
        "id": "iBxiMEWecb3b"
      },
      "execution_count": null,
      "outputs": []
    },
    {
      "cell_type": "code",
      "source": [
        "# Check contour value\n",
        "conts"
      ],
      "metadata": {
        "id": "6h3UFMyWcdOZ"
      },
      "execution_count": null,
      "outputs": []
    },
    {
      "cell_type": "code",
      "source": [
        "# Get the char based on contour\n",
        "\n",
        "# Setup min/max width/hight for char\n",
        "min_w, max_w = 10, 160\n",
        "min_h, max_h = 14, 140\n",
        "img_copy = img.copy() # original image for plotting countour result\n",
        "\n",
        "for c in conts:\n",
        "  (x, y, w, h) = cv2.boundingRect(c) # find bounding box based on contour\n",
        "  # if(w >= min_w and w <= max_w) and (h >= min_h and h <= max_h): # if pixel follow this rule, it consider as char\n",
        "  roi = gray[y:y+h, x:x+w] # get region of interest for char\n",
        "  thresh = cv2.threshold(roi, 0, 255, cv2.THRESH_BINARY_INV + cv2.THRESH_OTSU)[1]\n",
        "  cv2_imshow(thresh) # check\n",
        "\n",
        "  # Build bounding box on original image\n",
        "  cv2.rectangle(img_copy, (x,y), (x+w, y+h), (255,0,0), 2)\n",
        "\n",
        "# Show bounding box on original image\n",
        "cv2_imshow(img_copy)"
      ],
      "metadata": {
        "id": "gtwrhfDYceXb"
      },
      "execution_count": null,
      "outputs": []
    },
    {
      "cell_type": "code",
      "source": [
        "# Get the char based on contour\n",
        "\n",
        "# Setup min/max width/hight for char\n",
        "min_w, max_w = 10, 160\n",
        "min_h, max_h = 14, 140\n",
        "img_copy = img.copy()\n",
        "\n",
        "for c in conts:\n",
        "  (x, y, w, h) = cv2.boundingRect(c) # find bounding box based on contour\n",
        "  if(w >= min_w and w <= max_w) and (h >= min_h and h <= max_h): # if pixel follow this rule, it consider as char\n",
        "    roi = gray[y:y+h, x:x+w] # get region of interest for char\n",
        "    thresh = cv2.threshold(roi, 0, 255, cv2.THRESH_BINARY_INV + cv2.THRESH_OTSU)[1]\n",
        "    cv2_imshow(thresh) # check\n",
        "\n",
        "    # Build bounding box on original image\n",
        "    cv2.rectangle(img_copy, (x,y), (x+w, y+h), (255,0,0), 2)\n",
        "\n",
        "# Show bounding box on original image\n",
        "cv2_imshow(img_copy)"
      ],
      "metadata": {
        "id": "QDR6hJ9Jcg8G"
      },
      "execution_count": null,
      "outputs": []
    },
    {
      "cell_type": "code",
      "source": [
        "def extract_roi(img):\n",
        "  roi = img[y:y+h, x:x+w]\n",
        "\n",
        "  return roi"
      ],
      "metadata": {
        "id": "jbEvvXkbcipN"
      },
      "execution_count": null,
      "outputs": []
    },
    {
      "cell_type": "code",
      "source": [
        "def thresholding(img):\n",
        "  thresh = cv2.threshold(img, 0, 255, cv2.THRESH_BINARY_INV + cv2.THRESH_OTSU)[1]\n",
        "  return thresh"
      ],
      "metadata": {
        "id": "lEvKvlLGckgL"
      },
      "execution_count": null,
      "outputs": []
    },
    {
      "cell_type": "code",
      "source": [
        "def resize_img(img, w, h):\n",
        "  if w > h:\n",
        "    resized = imutils.resize(img, width=28)\n",
        "  else:\n",
        "    resized = imutils.resize(img, height=28)\n",
        "\n",
        "  # (w, h) = resized.shape\n",
        "  (h, w) = resized.shape\n",
        "\n",
        "  # Calculate how many pixels need to fill char image\n",
        "  dX = int(max(0, 28 - w) / 2.0)\n",
        "  dY = int(max(0, 28 - h) / 2.0)\n",
        "\n",
        "  filled = cv2.copyMakeBorder(resized, top=dY, bottom=dY, right=dX, left=dX, borderType=cv2.BORDER_CONSTANT, value=(0,0,0))\n",
        "  filled = cv2.resize(filled, (28,28))\n",
        "\n",
        "  return filled"
      ],
      "metadata": {
        "id": "93cR2p_EclxE"
      },
      "execution_count": null,
      "outputs": []
    },
    {
      "cell_type": "code",
      "source": [
        "# Demo for enlarge\n",
        "(x, y, w, h) = cv2.boundingRect(conts[1])\n",
        "test_image = thresholding(gray[y:y+h, x:x+w])\n",
        "\n",
        "# show original test image\n",
        "cv2_imshow(test_image)\n",
        "\n",
        "# Show enlarge test image\n",
        "cv2_imshow(cv2.resize(test_image, (28,28)))"
      ],
      "metadata": {
        "id": "BAkSdEV-cnBc"
      },
      "execution_count": null,
      "outputs": []
    },
    {
      "cell_type": "code",
      "source": [
        "# Demo by filled strategy\n",
        "(w, h) = test_image.shape\n",
        "# (h, w) = test_image.shape\n",
        "\n",
        "test_image2 = resize_img(test_image, w, h)\n",
        "\n",
        "cv2_imshow(test_image)\n",
        "cv2_imshow(test_image2)"
      ],
      "metadata": {
        "id": "_LnEPYIdcogV"
      },
      "execution_count": null,
      "outputs": []
    },
    {
      "cell_type": "code",
      "source": [
        "def normalization(img):\n",
        "  img = img.astype('float32') / 255.0 # convert to floating point\n",
        "  img = np.expand_dims(img, axis=-1) # add depth\n",
        "  return img"
      ],
      "metadata": {
        "id": "WDPZAbeEcpy-"
      },
      "execution_count": null,
      "outputs": []
    },
    {
      "cell_type": "code",
      "source": [
        "# Check\n",
        "test_image2.shape, normalization(test_image2).shape"
      ],
      "metadata": {
        "id": "basglK84crTE"
      },
      "execution_count": null,
      "outputs": []
    },
    {
      "cell_type": "code",
      "source": [
        "def process_box(gray, x, y, w, h):\n",
        "\n",
        "  roi = extract_roi(gray)\n",
        "  thresh = thresholding(roi)\n",
        "  (h, w) = thresh.shape\n",
        "  resized = resize_img(thresh, w, h)\n",
        "\n",
        "  # show result\n",
        "  cv2_imshow(resized)\n",
        "\n",
        "  normalized = normalization(resized)\n",
        "\n",
        "  return (normalized, (x, y, w, h))"
      ],
      "metadata": {
        "id": "ZqAXE-B2cssU"
      },
      "execution_count": null,
      "outputs": []
    },
    {
      "cell_type": "code",
      "source": [
        "# Detect every single char from contour\n",
        "detected_char = []\n",
        "\n",
        "for c in conts:\n",
        "  (x, y, w, h ) = cv2.boundingRect(c)\n",
        "\n",
        "  min_w, max_w = 10, 160\n",
        "  min_h, max_h = 14, 140\n",
        "\n",
        "  if(w >= min_w and w <= max_w) and (h >= min_h and h <= max_h):\n",
        "    detected_char.append(process_box(gray, x, y, w, h))"
      ],
      "metadata": {
        "id": "zfxOcXe6cuR8"
      },
      "execution_count": null,
      "outputs": []
    },
    {
      "cell_type": "code",
      "source": [
        "# check pixel for detected char sample\n",
        "detected_char[0][0]"
      ],
      "metadata": {
        "id": "c414MP2ucvpT"
      },
      "execution_count": null,
      "outputs": []
    },
    {
      "cell_type": "code",
      "source": [
        "# check bounding box for detected char sample\n",
        "detected_char[0][1]"
      ],
      "metadata": {
        "id": "Ajg6wgjYdHu7"
      },
      "execution_count": null,
      "outputs": []
    },
    {
      "cell_type": "code",
      "source": [
        "# Get all char pixel\n",
        "pixels = np.array([px[0] for px in detected_char], dtype='float32')\n",
        "\n",
        "# Get all box for detected char\n",
        "boxes = [box[1] for box in detected_char]"
      ],
      "metadata": {
        "id": "XYx8rOa6dJb1"
      },
      "execution_count": null,
      "outputs": []
    },
    {
      "cell_type": "code",
      "source": [
        "pixels.shape"
      ],
      "metadata": {
        "id": "dlQzkfoZdKpN"
      },
      "execution_count": null,
      "outputs": []
    },
    {
      "cell_type": "code",
      "source": [
        "digits = '0123456789'\n",
        "letters = 'ABCDEFGHIJKLMNOPQRSTUVWZYZ'\n",
        "char_list = digits + letters\n",
        "char_list = [ch for ch in char_list]\n",
        "\n",
        "print(char_list)"
      ],
      "metadata": {
        "id": "2EGdQEmbdMB6"
      },
      "execution_count": null,
      "outputs": []
    },
    {
      "cell_type": "code",
      "source": [
        "# Predict\n",
        "preds = network.predict(pixels)\n",
        "\n",
        "# check shape -> JTI POLINEMA --> shoud be 11 (from 0 to 10)\n",
        "preds.shape"
      ],
      "metadata": {
        "id": "h9aPq3N8dOWs"
      },
      "execution_count": null,
      "outputs": []
    },
    {
      "cell_type": "code",
      "source": [
        "# Char Prediction\n",
        "for p in preds:\n",
        "  char_idx = np.argmax(p)\n",
        "  print(char_list[char_idx], end = \" \")"
      ],
      "metadata": {
        "id": "-xBnVBd8dPx6"
      },
      "execution_count": null,
      "outputs": []
    },
    {
      "cell_type": "code",
      "source": [
        "# Show char with actual image\n",
        "img_copy2 = img.copy()\n",
        "\n",
        "# Inisialisasi string kosong untuk menyimpan karakter yang terdeteksi\n",
        "output_string = \"\"\n",
        "\n",
        "for(pred, (x, y, w, h)) in zip(preds, boxes):\n",
        "  i = np.argmax(pred)\n",
        "  char_detected = char_list[i]\n",
        "\n",
        "  # Menambahkan karakter yang terdeteksi ke output_string\n",
        "  output_string += char_detected\n",
        "\n",
        "  cv2.rectangle(img_copy2, (x, y), (x+w, y+h), (255,0,0), 2)\n",
        "  cv2.putText(img_copy2, char_detected, (x - 10, y - 10), cv2.FONT_HERSHEY_COMPLEX, 1, (0,0,255), 2)\n",
        "\n",
        "cv2_imshow(img_copy2)\n",
        "\n",
        "# Mencetak output_string\n",
        "print(\"Hasil OCR: \", output_string)"
      ],
      "metadata": {
        "id": "cXoLyDVUdS1T"
      },
      "execution_count": null,
      "outputs": []
    },
    {
      "cell_type": "markdown",
      "source": [
        "# Percobaan OCR EasyOCR"
      ],
      "metadata": {
        "id": "4LAd2ASXgkvo"
      }
    },
    {
      "cell_type": "code",
      "source": [
        "!pip install easyocr"
      ],
      "metadata": {
        "id": "EvVix0legtpd"
      },
      "execution_count": null,
      "outputs": []
    },
    {
      "cell_type": "code",
      "source": [
        "import cv2\n",
        "from google.colab.patches import cv2_imshow\n",
        "import matplotlib.pyplot as plt\n",
        "import numpy as np\n",
        "import easyocr\n",
        "from PIL import Image"
      ],
      "metadata": {
        "id": "-6hwsSoygtDd"
      },
      "execution_count": null,
      "outputs": []
    },
    {
      "cell_type": "markdown",
      "source": [
        "## Badzlin"
      ],
      "metadata": {
        "id": "nXngQF57gorN"
      }
    },
    {
      "cell_type": "code",
      "source": [
        "badzlin1 = cv2.imread('/content/drive/MyDrive/PCVK/ktm/badzlin1.jpg')\n",
        "badzlin1_rgb = cv2.cvtColor(badzlin1, cv2.COLOR_BGR2RGB)\n",
        "badzlin1_crop = badzlin1_rgb[320:930, 0:940]\n",
        "badzlin1_gray = cv2.cvtColor(badzlin1_crop, cv2.COLOR_BGR2GRAY)\n",
        "kernel = np.ones((3, 3), np.uint8)\n",
        "badzlin1_eroded = cv2.erode(badzlin1_gray, kernel, iterations=1)\n",
        "\n",
        "def ocr_id_card(image):\n",
        "    reader = easyocr.Reader(['id'])\n",
        "    image = np.array(image)\n",
        "    result = reader.readtext(image)\n",
        "    text = '\\n'.join([item[1] for item in result])\n",
        "    return text\n",
        "\n",
        "plt.figure(figsize = (10,10))\n",
        "f, axarr = plt.subplots(1,2,figsize=(8,8))\n",
        "plt.subplot(121)\n",
        "plt.title('Gambar Original')\n",
        "plt.imshow(badzlin1_rgb)\n",
        "plt.subplot(122)\n",
        "plt.title('Preprocessing')\n",
        "plt.imshow(badzlin1_eroded, cmap='gray')\n",
        "\n",
        "print(ocr_id_card(badzlin1_eroded))"
      ],
      "metadata": {
        "id": "qoH4I0AMglpV"
      },
      "execution_count": null,
      "outputs": []
    },
    {
      "cell_type": "code",
      "source": [
        "badzlin2 = cv2.imread('/content/drive/MyDrive/PCVK/ktm/badzlin2.jpg')\n",
        "badzlin2_rgb = cv2.cvtColor(badzlin2, cv2.COLOR_BGR2RGB)\n",
        "badzlin2_crop = badzlin2_rgb[500:1000, 0:940]\n",
        "badzlin2_gray = cv2.cvtColor(badzlin2_crop, cv2.COLOR_BGR2GRAY)\n",
        "kernel = np.ones((1, 1), np.uint8)\n",
        "badzlin2_eroded = cv2.erode(badzlin2_gray, kernel, iterations=2)\n",
        "\n",
        "def ocr_id_card(image):\n",
        "    reader = easyocr.Reader(['id'])\n",
        "    image = np.array(image)\n",
        "    result = reader.readtext(image)\n",
        "    text = '\\n'.join([item[1] for item in result])\n",
        "    return text\n",
        "\n",
        "plt.figure(figsize = (10,10))\n",
        "f, axarr = plt.subplots(1,2,figsize=(8,8))\n",
        "plt.subplot(121)\n",
        "plt.title('Gambar Original')\n",
        "plt.imshow(badzlin2_rgb)\n",
        "plt.subplot(122)\n",
        "plt.title('Preprocessing')\n",
        "plt.imshow(badzlin2_eroded, cmap='gray')\n",
        "\n",
        "print(ocr_id_card(badzlin2_eroded))"
      ],
      "metadata": {
        "id": "pcGdwTL7gns-"
      },
      "execution_count": null,
      "outputs": []
    },
    {
      "cell_type": "code",
      "source": [
        "badzlin3 = cv2.imread('/content/drive/MyDrive/PCVK/ktm/badzlin3.jpg')\n",
        "badzlin3_rgb = cv2.cvtColor(badzlin3, cv2.COLOR_BGR2RGB)\n",
        "badzlin3_crop = badzlin3_rgb[470:980, 10:2950]\n",
        "badzlin3_rotated = cv2.rotate(badzlin3_crop, cv2.ROTATE_180)\n",
        "badzlin3_gray = cv2.cvtColor(badzlin3_rotated, cv2.COLOR_BGR2GRAY)\n",
        "kernel = np.ones((2, 2), np.uint8)\n",
        "badzlin3_eroded = cv2.erode(badzlin3_gray, kernel, iterations=1)\n",
        "\n",
        "def ocr_id_card(image):\n",
        "    reader = easyocr.Reader(['id'])\n",
        "    image = np.array(image)\n",
        "    result = reader.readtext(image)\n",
        "    text = '\\n'.join([item[1] for item in result])\n",
        "    return text\n",
        "\n",
        "plt.figure(figsize = (10,10))\n",
        "f, axarr = plt.subplots(1,2,figsize=(8,8))\n",
        "plt.subplot(121)\n",
        "plt.title('Gambar Original')\n",
        "plt.imshow(badzlin3_rgb)\n",
        "plt.subplot(122)\n",
        "plt.title('Preprocessing')\n",
        "plt.imshow(badzlin3_eroded, cmap='gray')\n",
        "\n",
        "print(ocr_id_card(badzlin3_eroded))"
      ],
      "metadata": {
        "id": "ejgIug3vg0ZP"
      },
      "execution_count": null,
      "outputs": []
    },
    {
      "cell_type": "code",
      "source": [
        "badzlin4 = cv2.imread('/content/drive/MyDrive/PCVK/ktm/badzlin4.jpg')\n",
        "badzlin4_rgb = cv2.cvtColor(badzlin4, cv2.COLOR_BGR2RGB)\n",
        "badzlin4_crop = badzlin4_rgb[390:1170, 170:710]\n",
        "badzlin4_rotated = cv2.rotate(badzlin4_crop, cv2.ROTATE_90_COUNTERCLOCKWISE)\n",
        "badzlin4_gray = cv2.cvtColor(badzlin4_rotated, cv2.COLOR_BGR2GRAY)\n",
        "kernel = np.ones((2, 2), np.uint8)\n",
        "badzlin4_eroded = cv2.erode(badzlin4_gray, kernel, iterations=1)\n",
        "\n",
        "def ocr_id_card(image):\n",
        "    reader = easyocr.Reader(['id'])\n",
        "    image = np.array(image)\n",
        "    result = reader.readtext(image)\n",
        "    text = '\\n'.join([item[1] for item in result])\n",
        "    return text\n",
        "\n",
        "plt.figure(figsize = (10,10))\n",
        "f, axarr = plt.subplots(1,2,figsize=(8,8))\n",
        "plt.subplot(121)\n",
        "plt.title('Gambar Original')\n",
        "plt.imshow(badzlin4_rgb)\n",
        "plt.subplot(122)\n",
        "plt.title('Preprocessing')\n",
        "plt.imshow(badzlin4_eroded, cmap='gray')\n",
        "\n",
        "print(ocr_id_card(badzlin4_eroded))"
      ],
      "metadata": {
        "id": "ihmfLlF6g14e"
      },
      "execution_count": null,
      "outputs": []
    },
    {
      "cell_type": "code",
      "source": [
        "badzlin5 = cv2.imread('/content/drive/MyDrive/PCVK/ktm/badzlin5.jpg')\n",
        "badzlin5_rgb = cv2.cvtColor(badzlin5, cv2.COLOR_BGR2RGB)\n",
        "badzlin5_crop = badzlin5_rgb[290:1120, 180:750]\n",
        "badzlin5_rotated = cv2.rotate(badzlin5_crop, cv2.ROTATE_90_CLOCKWISE)\n",
        "badzlin5_gray = cv2.cvtColor(badzlin5_rotated, cv2.COLOR_BGR2GRAY)\n",
        "kernel = np.ones((2, 2), np.uint8)\n",
        "badzlin5_eroded = cv2.erode(badzlin5_gray, kernel, iterations=1)\n",
        "\n",
        "def ocr_id_card(image):\n",
        "    reader = easyocr.Reader(['id'])\n",
        "    image = np.array(image)\n",
        "    result = reader.readtext(image)\n",
        "    text = '\\n'.join([item[1] for item in result])\n",
        "    return text\n",
        "\n",
        "plt.figure(figsize = (10,10))\n",
        "f, axarr = plt.subplots(1,2,figsize=(8,8))\n",
        "plt.subplot(121)\n",
        "plt.title('Gambar Original')\n",
        "plt.imshow(badzlin5_rgb)\n",
        "plt.subplot(122)\n",
        "plt.title('Preprocessing')\n",
        "plt.imshow(badzlin5_eroded, cmap='gray')\n",
        "\n",
        "print(ocr_id_card(badzlin5_eroded))"
      ],
      "metadata": {
        "id": "r07qLuyvg3Ls"
      },
      "execution_count": null,
      "outputs": []
    }
  ]
}